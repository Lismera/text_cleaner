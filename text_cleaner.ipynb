{
 "cells": [
  {
   "cell_type": "code",
   "execution_count": 1,
   "metadata": {},
   "outputs": [],
   "source": [
    "# Libraries"
   ]
  },
  {
   "cell_type": "code",
   "execution_count": 2,
   "metadata": {},
   "outputs": [],
   "source": [
    "import os\n",
    "#from nltk.tokenize import sent_tokenize"
   ]
  },
  {
   "cell_type": "markdown",
   "metadata": {},
   "source": [
    "# Load in data"
   ]
  },
  {
   "cell_type": "code",
   "execution_count": 3,
   "metadata": {},
   "outputs": [
    {
     "name": "stdout",
     "output_type": "stream",
     "text": [
      "['Abzena5.txt', 'Byron10.txt', 'Byron5.txt', 'Byron9.txt', 'Nila7.txt']\n"
     ]
    }
   ],
   "source": [
    "text_file_path = r\"C:\\Users\\dell\\Desktop\\finBERT\\innn\"\n",
    "\n",
    "#load all the files in the directory\n",
    "\n",
    "file_names = []\n",
    "text_file_paths = []\n",
    "for file in os.listdir(text_file_path):\n",
    "    if file.endswith(\".txt\"):\n",
    "        file_names.append(file)\n",
    "        text_file_paths.append(os.path.join(text_file_path,file))\n",
    "        \n",
    "print(file_names)"
   ]
  },
  {
   "cell_type": "code",
   "execution_count": 4,
   "metadata": {},
   "outputs": [],
   "source": [
    "# withdraw individual file\n",
    "# Example output: audit statement MULLER PARTICIPATIES BV46\n",
    "\n",
    "text_file_paths= [t for t in text_file_paths]"
   ]
  },
  {
   "cell_type": "code",
   "execution_count": 5,
   "metadata": {},
   "outputs": [
    {
     "name": "stdout",
     "output_type": "stream",
     "text": [
      "\n",
      "byron hamburgers limited directors report 52 week period ended 24 june 2018 director responsible keeping adequate accounting records sufficient show explain companys transactions disclose reasonable accuracy time financial position company enable ensure financial statements comply companies act 2006. also responsible safeguarding assets company hence taking reasonable steps prevention detection fraud irregularities. : provision information auditors persons director date approval report confirms that: (1) far director aware, relevant audit information companys auditors unaware; (2) director taken steps ought taken director order make aware relevant audit information establish companys auditors aware information. confirmation given interpreted accordance provisions s418(2) companies act 2006. going concern company meets day-to-day working capital requirements management creditor balances, fast- flowing cash income restaurants investment shareholders. current economic conditions continue create uncertainty (a) level demand companys products; (b) availability bank finance foreseeable future. companys forecasts projections, taking account reasonably possible changes trading performance, show company able operate within level current available funds. making enquiries, director reasonable expectation company adequate resources continue operational existence foreseeable future. addition, current shareholders demonstrated stand behind company willing fund growth capital business. company therefore continues adopt going concern basis preparing financial statements. independent auditors auditors, pricewaterhousecoopers llp, indicated willingness continue office, resolution concerning re-appointment proposed annual general meeting. approved board 16 july 2019 signed behalf by: aullkce- wilkinson director page 8\n",
      "byron hamburgers limited strategic report 52 week period ended 24 june 2018 restructuring february 2018 group restructured debt profile existing loan note holders exchanging 51m loan notes ordinary b shares ordinary shares parent company, hellespont holdings limited. date cash injection 9.5m made shareholders exchange new loan notes issued group. company subject restructure january 2019. existing loan note holders exchanged 27.9m loan notes 0.01p ordinary shares byron hamburgers. changed proportion ordinary shares held shareholders funds managed three hills capital partners hold majority shares group. part restructuring new equity loans issued resulting cash injection 10.2 million. future developments prospects december 2018 announced simon cope stepped role ceo. following extensive search, simon wilkinson appointed ceo effective may 2019. simon previously held positions managing director strategic options casual dining group ceo la tasca & la vina restaurants. extensive experience managing companies retail hospitality sectors wealth experience challenging consumer faced businesses. also added strength senior leadership team order successfully land new innovated menu, appointed sophie michell executive chef. sophie 23 years experience industry brings wealth knowledge byron. : significant amount strategic research carried identify key consumer needs premium burger market effective ways business meet needs. company intends address difficult market conditions sector delivery comprehensive operational turnaround plan containing following initiatives: e investment remaining restaurants reposition brand begin july 2019; e acomplete overhaul offer, design, menu, service experience; e areview companys current supply chain practices house outsourced products reduce cost base; e new tools support labour management reduce costs introduced; e takeaway delivery offerings receive additional marketing support drive greater share growing demand business turning attention achieving operational excellence, evolving byron brand continuing journey turn uk nation proper hamburger lovers innovating current restaurants well opening restaurants across uk. page 3 fe, * = srr le ee ee ee ep\n",
      "byron hamburgers limited directors report 52 week period ended 24 june 2018 director indemnity qualifying third party indemnity provisions defined companies act 2006 force financial year also date approval financial statements benefit director. company committed high standards corporate governance appropriate mid-sized, private company board accountable companys shareholders, including minority shareholdings held management employees, good corporate governance. employees . encourage work environment fair, open communicative, many benefits employees. informal, frank open dialogue encouraged levels company. aim keep employees informed changes progress business regular basis engaging way. employees performance review least year, includes consideration skills development career prospects. aim retain, develop promote best staff, offering variety training courses development opportunities. | diverse workforce equal opportunities policy place. aim employ people reflect diverse nature society value people contribution irrespective age, sex, disability, sexual orientation, race, colour, religion, marital status ethnic origin. tolerate harassment bullying shape form. procedures place respond accusations workplace discrimination, harassment victimisation. effective employee grievance procedure operation, policy properly communicated people. applications disabled persons given full fair consideration providing disability seriously affect performance duties. persons, employed, given appropriate training equal opportunities. directors responsibilities statement director responsible preparing annual report financial statements accordance applicable law regulation. company law requires director prepare financial statements financial period. law director prepared company financial statements accordance united kingdom generally accepted accounting practice, (united kingdom accounting standards, comprising frs 102 financial reporting standard applicable uk republic ireland, applicable law). company law director must approve financial statements unless satisfied give true fair view state affairs company profit loss company period. preparing financial statements, director required to: e select suitable accounting policies apply consistently; e state whether applicable united kingdom accounting standards, comprising frs 102, followed, subject material departures disclosed explained financial statements; e make judgements accounting estimates reasonable prudent; prepare financial statements going concern basis unless inappropriate presume company continue business. page 7\n",
      "_ nila (uk) limited independent auditor's report members nila (uk) limited audited financial statements nila (uk) limited period ended 30 november 2016 set pages 6 21. financial reporting framework applied preparation applicable law united kingdom accounting standards (united kingdom generally accepted accounting practice), including frs 102 \"the financial reporting standard applicable uk republic ireland\". report made solely companys members, body, accordance chapter 3 part 16 companies act 2006. audit work undertaken might state companys members matters required state auditor's report purpose. fullest extent permitted law, accept assume responsibility anyone company companys members body, audit work, report, opinions formed. respective responsibilities director auditor explained fully director's responsibilities statement set page 3, director responsible preparation financial statements satisfied give true fair view. responsibility 1s audit express opinion financial statements accordance applicable law international standards auditing (uk ireland). standards require us comply auditing practices board's ethical standards auditors. scope audit financial statements audit involves obtaining evidence amounts disclosures financial statements sufficient give reasonable assurance financial statements free material misstatement, whether caused fraud error. includes assessment of: whether accounting policies appropriate company's circumstances consistently applied adequately disclosed; reasonableness significant accounting estimates made director; overall presentation financial statements. addition, read financial non-financial information annual report identify material inconsistencies audited financial statements identify information apparently materially incorrect based on, materially inconsistent with, knowledge acquired us course performing audit. become aware apparent material misstatements inconsistencies consider implications report. basis qualified opinion financial statements respect stock carrying amount 1,643,070 30 november 2016, audit evidence available us limited company perform stocktake period end coincided move premises. although stocktake took place month later, possible adequately reconcile stocks counted later date quantities shown company's stock records period end formed basis carrying amount 1,643,070. alternative tests could perform confirm stock quantities 30 november 2016. qualified opinion financial statements opinion, except effects matters described basis qualified opinion paragraph, financial statements: - give true fair view state company's affairs 30 november 2016 loss period ended; - properly prepared accordance united kingdom generally accepted accounting practice; - prepared accordance requirements companies act 2006. emphasis matter - going concern forming opinion financial statements, considered adequacy disclosure made note 1.2 financial statements relating companys ability continue going concern. company incurred net loss 841,331 sixteen-month period 30 november 2016 date companys net current liabilities amounted 1,834,161. company's status going concern ts ultimately dependent ability trade profitably future secure sufficient finance meet working capital requirements. conditions along tnalters explained note 1.2 financial statements, indicate existence material uncertainty may cast significant doubt companys ability continue going concern. financial statements include adjustments would result company unable continue going concern.ared accordance united kingdom generally accepted accounting practice; - prepared accordance requirements companies act 2006. emphasis matter - going concern forming opinion financial statements, considered adequacy disclosure made note 1.2 financial statements relating companys ability continue going concern. company incurred net loss 841,331 sixteen-month period 30 november 2016 date companys net current liabilities amounted 1,834,161. company's status going concern ts ultimately dependent ability trade profitably future secure sufficient finance meet working capital requirements. conditions along tnalters explained note 1.2 financial statements, indicate existence material uncertainty may cast significant doubt companys ability continue going concern. financial statements include adjustments would result company unable continue going concern.\n"
     ]
    }
   ],
   "source": [
    "import re\n",
    "from nltk.corpus import stopwords\n",
    "import nltk\n",
    "import nltk.data\n",
    "# nltk.download() - downloads nltk functionality if you don't have nltk installed. Comment after the first time to improve runtime\n",
    "\n",
    "#downloads english stopwords. .append() - add stopwords, .remove() - remove stopwords from the list\n",
    "all_stopwords = stopwords.words('english')\n",
    "all_stopwords.remove('not')\n",
    "                     \n",
    "for text_file in text_file_paths:\n",
    "    \n",
    "    #getting rid of non-english characters via ascii + ignore combo\n",
    "    with open(text_file, 'r', encoding='ascii', errors='ignore') as f2:\n",
    "        text =\"\".join(x for x in f2.read())\n",
    "        \n",
    "        #apply modify stopwords\n",
    "        stop = all_stopwords\n",
    "        \n",
    "        #remove puntctuation\n",
    "        #punc = re.sub(r'[^\\w\\s]','',text)\n",
    "        \n",
    "        #remove digits\n",
    "        #rep = re.sub(r'\\d','',punc)\n",
    "        \n",
    "        #clean new text\n",
    "        #text1 = rep \n",
    "        \n",
    "        text1 = ' '.join([word for word in text.split() if word not in stop])\n",
    "        print(text1)\n",
    "        \n",
    "        #make it all lower case\n",
    "        text2 = str.lower(text1)\n",
    "    \n",
    "    f2.close()\n",
    "    \n",
    "    #print(len(processed_text))\n",
    "    #print(processed_text)\n",
    "    \n",
    "    #write in file new nice looking text\n",
    "    f = open(text_file,\"w\", encoding='utf8', errors='ignore')\n",
    "    f.write(text2)\n",
    "    f.close()\n",
    "  "
   ]
  },
  {
   "cell_type": "code",
   "execution_count": null,
   "metadata": {},
   "outputs": [],
   "source": []
  },
  {
   "cell_type": "code",
   "execution_count": null,
   "metadata": {},
   "outputs": [],
   "source": []
  }
 ],
 "metadata": {
  "kernelspec": {
   "display_name": "Python 3",
   "language": "python",
   "name": "python3"
  },
  "language_info": {
   "codemirror_mode": {
    "name": "ipython",
    "version": 3
   },
   "file_extension": ".py",
   "mimetype": "text/x-python",
   "name": "python",
   "nbconvert_exporter": "python",
   "pygments_lexer": "ipython3",
   "version": "3.6.9"
  }
 },
 "nbformat": 4,
 "nbformat_minor": 4
}
