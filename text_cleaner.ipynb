{
 "cells": [
  {
   "cell_type": "code",
   "execution_count": null,
   "metadata": {},
   "outputs": [],
   "source": [
    "# Libraries"
   ]
  },
  {
   "cell_type": "code",
   "execution_count": null,
   "metadata": {},
   "outputs": [],
   "source": [
    "import os"
   ]
  },
  {
   "cell_type": "markdown",
   "metadata": {},
   "source": [
    "# Load in data"
   ]
  },
  {
   "cell_type": "code",
   "execution_count": null,
   "metadata": {},
   "outputs": [],
   "source": [
    "text_file_path = r\"C:\\Users\\dell\\Desktop\"\n",
    "\n",
    "#load all the files in the directory\n",
    "\n",
    "file_names = []\n",
    "text_file_paths = []\n",
    "for file in os.listdir(text_file_path):\n",
    "    if file.endswith(\".txt\"):\n",
    "        file_names.append(file)\n",
    "        text_file_paths.append(os.path.join(text_file_path,file))\n",
    "        \n",
    "print(file_names)"
   ]
  },
  {
   "cell_type": "code",
   "execution_count": null,
   "metadata": {},
   "outputs": [],
   "source": [
    "# withdraw individual file\n",
    "# Example output: file 1.txt\n",
    "\n",
    "text_file_paths= [t for t in text_file_paths]"
   ]
  },
  {
   "cell_type": "code",
   "execution_count": null,
   "metadata": {},
   "outputs": [],
   "source": [
    "import re\n",
    "from nltk.corpus import stopwords\n",
    "import nltk\n",
    "import nltk.data\n",
    "# nltk.download() - downloads nltk functionality if you don't have nltk installed. Comment after the first time to improve runtime\n",
    "\n",
    "#downloads english stopwords. .append() - add stopwords, .remove() - remove stopwords from the list\n",
    "all_stopwords = stopwords.words('english')\n",
    "all_stopwords.remove('not')\n",
    "                     \n",
    "for text_file in text_file_paths:\n",
    "    \n",
    "    #getting rid of non-english characters via ascii + ignore combo\n",
    "    with open(text_file, 'r', encoding='ascii', errors='ignore') as f2:\n",
    "        text =\"\".join(x for x in f2.read())\n",
    "        \n",
    "        #apply modify stopwords\n",
    "        stop = all_stopwords\n",
    "        \n",
    "        remove puntctuation\n",
    "        #punc = re.sub(r'[^\\w\\s]','',text)\n",
    "        \n",
    "        remove digits\n",
    "        #rep = re.sub(r'\\d','',punc)\n",
    "        \n",
    "        clean new text\n",
    "        #text1 = rep \n",
    "        \n",
    "        text1 = ' '.join([word for word in text.split() if word not in stop])\n",
    "        print(text1)\n",
    "        \n",
    "        #make it all lower case\n",
    "        text2 = str.lower(text1)\n",
    "    \n",
    "    f2.close()\n",
    "    \n",
    "    #print(len(processed_text))\n",
    "    #print(processed_text)\n",
    "    \n",
    "    #write in file new nice looking text\n",
    "    f = open(text_file,\"w\", encoding='utf8', errors='ignore')\n",
    "    f.write(text2)\n",
    "    f.close()\n",
    "  "
   ]
  },
  {
   "cell_type": "code",
   "execution_count": null,
   "metadata": {},
   "outputs": [],
   "source": []
  },
  {
   "cell_type": "code",
   "execution_count": null,
   "metadata": {},
   "outputs": [],
   "source": []
  }
 ],
 "metadata": {
  "kernelspec": {
   "display_name": "Python 3",
   "language": "python",
   "name": "python3"
  },
  "language_info": {
   "codemirror_mode": {
    "name": "ipython",
    "version": 3
   },
   "file_extension": ".py",
   "mimetype": "text/x-python",
   "name": "python",
   "nbconvert_exporter": "python",
   "pygments_lexer": "ipython3",
   "version": "3.6.9"
  }
 },
 "nbformat": 4,
 "nbformat_minor": 4
}
